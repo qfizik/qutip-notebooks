{
 "cells": [
  {
   "cell_type": "markdown",
   "metadata": {},
   "source": [
    "# HEOM solver - Two level system\n",
    "## An exact solution to a system-bath evolution using the hierarchical equations of motion and the Drude-Lorentz model for spectral density"
   ]
  },
  {
   "cell_type": "markdown",
   "metadata": {},
   "source": [
    "Authors: Alexander Pitchford (alex.pitchford@gmail.com),\n",
    "         Neill Lambert (nwlambert@gmail.com)"
   ]
  },
  {
   "cell_type": "markdown",
   "metadata": {},
   "source": [
    "## Introduction\n",
    "### Hierarchical equations of motion\n",
    "\n",
    "The HEOM (hierarchical equations of motion) method can compute open system dynamics without using any Markovian or rotating wave approximation (RWA) for systems where the bath correlations can be approximated to a sum of complex eponentials. The bath is described in an abstract way, via a formal expansion of the full system-bath equation of motion, which results in a set of coupled \"density matrices\" for the system. A overview of the method is given in [1].\n",
    "\n",
    "The HEOM solver will compute the dynamics of a quantum system coupled to a bath with a complete Hamiltonian given by\n",
    "\n",
    "\\begin{equation*}\n",
    "H = H_s + Q\\sum_{j}g_j(a_j^{\\dagger}+a_j) + \\sum_{j}\\omega_j a_j^{\\dagger}a_j\n",
    "\\end{equation*}\n",
    "\n",
    "The dynamics of the quantum system of interest, if independent of the environment, would be described the system Hamiltonian $H_s$. The $a_j^{\\dagger}$ and $a_j$ are the creation and annihilation operators of the bosonic modes of frequency $\\omega_j$ of the bath that models the environment. The system operator Q couples with the bath with a strength $g_j$ for each mode."
   ]
  },
  {
   "cell_type": "markdown",
   "metadata": {
    "collapsed": true
   },
   "source": [
    "### Drude-Lorentz spectral density\n",
    "The spectral density determines the strength of the interact for specific modes. The Drude-Lorentz (DL) model for the spectral density is given by\n",
    "\n",
    "$$J(\\omega)=\\omega \\frac{2\\lambda\\gamma}{{\\gamma}^2 + \\omega^2}$$\n",
    "\n",
    "where $\\lambda$ is an overall scale factor for the coupling strength, and $\\gamma$ is a cut-off frequency\n",
    "\n",
    "The correlation function can be calculated via Fourier transform and gives an infinite exponential series of the form\n",
    "\n",
    "\\begin{equation*}\n",
    "L(t)=\\sum_{k=0}^{k=\\infty} c_k e^{-\\nu_k t}\n",
    "\\end{equation*}\n",
    "\n",
    "as this is in the form of a sum of exponentials it allows us to use the HEOM. Some cut-off for $k$ will be required  in order for it to be computable; in practice this is typically quite small ($<5$). The series term frequencies and coefficients (known as Matsubara terms, frequencies and coefficients in the DL model) as given by\n",
    "\n",
    "\\begin{equation*}\n",
    "    \\nu_k = \\begin{cases}\n",
    "               \\gamma               & k = 0\\\\\n",
    "               {2 \\pi k} / {\\beta \\hbar}  & k \\geq 1\\\\\n",
    "           \\end{cases}\n",
    "\\end{equation*}\n",
    "\n",
    "\\begin{equation*}\n",
    "    c_k = \\begin{cases}\n",
    "               \\lambda \\gamma (\\cot(\\beta \\gamma / 2) - i) / \\hbar               & k = 0\\\\\n",
    "               4 \\lambda \\gamma \\nu_k / \\{(nu_k^2 - \\gamma^2)\\beta \\hbar^2 \\}    & k \\geq 1\\\\\n",
    "           \\end{cases}\n",
    "\\end{equation*}"
   ]
  },
  {
   "cell_type": "markdown",
   "metadata": {},
   "source": [
    "### Two-level system example\n",
    "The example system in this notebook is taken from [2], which also gives an overview of the HEOM method in its appendix D. Here we look to compute the dynamics of a system where\n",
    "\n",
    "\\begin{equation*}\n",
    "H_s = \\frac{\\epsilon}{2}\\sigma_z + \\frac{\\Delta}{2}\\sigma_x\n",
    "\\end{equation*}\n",
    "\n",
    "and the coupling operator $Q=\\sigma_z$. The energy of the two level system is given by $\\epsilon$, the strength of the tunnelling effect by $\\Delta$. This model is of much interest in the study of the potential quantum effects at work in photosynthesis, as discussed in some of the papers cited in [2]"
   ]
  },
  {
   "cell_type": "markdown",
   "metadata": {},
   "source": [
    "### References\n",
    "    1. link.aps.org/doi/10.1103/PhysRevLett.104.250401 \n",
    "    2. link.aps.org/doi/10.1103/PhysRevA.90.032114"
   ]
  },
  {
   "cell_type": "code",
   "execution_count": 1,
   "metadata": {},
   "outputs": [
    {
     "name": "stdout",
     "output_type": "stream",
     "text": [
      "Populating the interactive namespace from numpy and matplotlib\n"
     ]
    }
   ],
   "source": [
    "%matplotlib inline\n",
    "import numpy as np\n",
    "from qutip import sigmax, sigmay, sigmaz, basis, expect\n",
    "from qutip.nonmarkov.heom import HSolverDL\n"
   ]
  },
  {
   "cell_type": "code",
   "execution_count": 2,
   "metadata": {
    "collapsed": true
   },
   "outputs": [],
   "source": [
    "# Defining the system Hamiltonian\n",
    "eps = 0.5     # Energy of the 2-level system.\n",
    "Del = 1.0    # Tunnelling term\n",
    "Hsys = 0.5*eps*sigmaz() + 0.5*Del* sigmax()"
   ]
  },
  {
   "cell_type": "code",
   "execution_count": 3,
   "metadata": {
    "collapsed": true
   },
   "outputs": [],
   "source": [
    "# Bath description parameters (for HEOM)\n",
    "temperature = 1.0/0.95 # in units where Boltzmann factor is 1\n",
    "Nk = 2 # number of exponentials in approximation of the the spectral density\n",
    "Ncut = 30 # cut off parameter for the bath"
   ]
  },
  {
   "cell_type": "code",
   "execution_count": 4,
   "metadata": {
    "collapsed": true
   },
   "outputs": [],
   "source": [
    "# System-bath coupling (Drude-Lorentz spectral density)\n",
    "Q = sigmaz() # coupling operator\n",
    "gam = 0.05 # cut off frequency\n",
    "lam = 0.05 # coupling strenght"
   ]
  },
  {
   "cell_type": "code",
   "execution_count": 5,
   "metadata": {},
   "outputs": [],
   "source": [
    "# Configure the solver\n",
    "hsolver = HSolverDL(Hsys, Q, lam, temperature, Ncut, Nk, gam, stats=True)"
   ]
  },
  {
   "cell_type": "code",
   "execution_count": 6,
   "metadata": {},
   "outputs": [
    {
     "name": "stdout",
     "output_type": "stream",
     "text": [
      "Hierarchy Solver Stats\n",
      "======================\n",
      "\n",
      "config\n",
      "------\n",
      "### Timings:\n",
      " - 0:00:00.444370 (96.54% section, 17.80% total)\thierarchy contruct\n",
      " - 0:00:00.001411 (0.31% section, 0.06% total)\tLiouvillian contruct\n",
      " - 0:00:00.460291\tconfig total time\n",
      "### Counts:\n",
      " - 496\tNum hierarchy elements\n",
      " - 1860\tNum he interactions\n",
      "### Messages:\n",
      " - options:\trenormalisation;boundary cutoff approx\n",
      "\n",
      "run\n",
      "---\n",
      "### Timings:\n",
      " - 0:00:00.001269 (0.06% section, 0.05% total)\tinitialize\n",
      " - 0:00:02.035409 (99.94% section, 81.51% total)\tintegrate\n",
      " - 0:00:02.036704\trun total time\n",
      "### Counts:\n",
      "### Messages:\n",
      "\n",
      "Summary\n",
      "-------\n",
      "0:00:02.496995\t solver total time\n"
     ]
    }
   ],
   "source": [
    "# Initial state of the system.\n",
    "rho0 = basis(2,0) * basis(2,0).dag()   \n",
    "# Times to record state\n",
    "tlist = np.linspace(0, 40, 600)\n",
    "# run the solver\n",
    "result = hsolver.run(rho0, tlist)\n",
    "hsolver.stats.report()"
   ]
  },
  {
   "cell_type": "code",
   "execution_count": 7,
   "metadata": {},
   "outputs": [],
   "source": [
    "# Define some operators with which we will measure the system\n",
    "# 1,1 element of density matrix - corresonding to groundstate\n",
    "P11p=basis(2,0) * basis(2,0).dag()\n",
    "# 1,2 element of density matrix  - corresonding to coherence\n",
    "P12p=basis(2,0) * basis(2,1).dag()\n",
    "# Calculate expectation values in the bases\n",
    "P11exp = expect(result.states, P11p)\n",
    "P12exp = expect(result.states, P12p)"
   ]
  },
  {
   "cell_type": "code",
   "execution_count": 8,
   "metadata": {},
   "outputs": [
    {
     "data": {
      "text/plain": [
       "<matplotlib.legend.Legend at 0x11866da58>"
      ]
     },
     "execution_count": 8,
     "metadata": {},
     "output_type": "execute_result"
    },
    {
     "data": {
      "image/png": "[encoded data removed]",
      "text/plain": [
       "<matplotlib.figure.Figure at 0x11853abe0>"
      ]
     },
     "metadata": {},
     "output_type": "display_data"
    }
   ],
   "source": [
    "# Plot the results\n",
    "fig, axes = plt.subplots(1, 1, sharex=True, figsize=(8,8))\n",
    "axes.plot(tlist, np.real(P11exp), 'b', linewidth=2, label=\"P11\")\n",
    "axes.plot(tlist, np.real(P12exp), 'r', linewidth=2, label=\"P12\")\n",
    "axes.set_xlabel(r't', fontsize=28)\n",
    "axes.legend(loc=0, fontsize=12)"
   ]
  },
  {
   "cell_type": "markdown",
   "metadata": {},
   "source": [
    "### Software versions"
   ]
  },
  {
   "cell_type": "code",
   "execution_count": 9,
   "metadata": {},
   "outputs": [
    {
     "data": {
      "text/html": [
       "<table><tr><th>Software</th><th>Version</th></tr><tr><td>QuTiP</td><td>4.2.0</td></tr><tr><td>Numpy</td><td>1.13.1</td></tr><tr><td>SciPy</td><td>0.19.1</td></tr><tr><td>matplotlib</td><td>2.0.2</td></tr><tr><td>Cython</td><td>0.25.2</td></tr><tr><td>Number of CPUs</td><td>2</td></tr><tr><td>BLAS Info</td><td>INTEL MKL</td></tr><tr><td>IPython</td><td>6.1.0</td></tr><tr><td>Python</td><td>3.6.1 |Anaconda custom (x86_64)| (default, May 11 2017, 13:04:09) \n",
       "[GCC 4.2.1 Compatible Apple LLVM 6.0 (clang-600.0.57)]</td></tr><tr><td>OS</td><td>posix [darwin]</td></tr><tr><td colspan='2'>Wed Jul 19 22:17:21 2017 MDT</td></tr></table>"
      ],
      "text/plain": [
       "<IPython.core.display.HTML object>"
      ]
     },
     "execution_count": 9,
     "metadata": {},
     "output_type": "execute_result"
    }
   ],
   "source": [
    "from qutip.ipynbtools import version_table\n",
    "\n",
    "version_table()"
   ]
  },
  {
   "cell_type": "code",
   "execution_count": null,
   "metadata": {},
   "outputs": [],
   "source": []
  }
 ],
 "metadata": {
  "kernelspec": {
   "display_name": "Python 3",
   "language": "python",
   "name": "python3"
  },
  "language_info": {
   "codemirror_mode": {
    "name": "ipython",
    "version": 3
   },
   "file_extension": ".py",
   "mimetype": "text/x-python",
   "name": "python",
   "nbconvert_exporter": "python",
   "pygments_lexer": "ipython3",
   "version": "3.6.1"
  }
 },
 "nbformat": 4,
 "nbformat_minor": 1
}
